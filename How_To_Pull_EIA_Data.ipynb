{
  "nbformat": 4,
  "nbformat_minor": 0,
  "metadata": {
    "colab": {
      "provenance": [],
      "authorship_tag": "ABX9TyObE7RCQWoh1/nehrKoEh+V",
      "include_colab_link": true
    },
    "kernelspec": {
      "name": "python3",
      "display_name": "Python 3"
    },
    "language_info": {
      "name": "python"
    }
  },
  "cells": [
    {
      "cell_type": "markdown",
      "metadata": {
        "id": "view-in-github",
        "colab_type": "text"
      },
      "source": [
        "<a href=\"https://colab.research.google.com/github/sametgirgin/Data-Analysis-Cheat-Sheet/blob/main/How_To_Pull_EIA_Data.ipynb\" target=\"_parent\"><img src=\"https://colab.research.google.com/assets/colab-badge.svg\" alt=\"Open In Colab\"/></a>"
      ]
    },
    {
      "cell_type": "code",
      "execution_count": null,
      "metadata": {
        "colab": {
          "base_uri": "https://localhost:8080/"
        },
        "id": "3F9mZS8DWo74",
        "outputId": "e5df2322-685d-4d88-b446-822e61ccb810"
      },
      "outputs": [
        {
          "output_type": "stream",
          "name": "stdout",
          "text": [
            "Collecting EIA_python\n",
            "  Downloading eia_python-1.22-py3-none-any.whl (3.8 kB)\n",
            "Installing collected packages: EIA_python\n",
            "Successfully installed EIA_python-1.22\n"
          ]
        }
      ],
      "source": [
        "pip install EIA_python"
      ]
    },
    {
      "cell_type": "code",
      "source": [
        "import eia\n",
        "import pandas as pd"
      ],
      "metadata": {
        "id": "smQSNVFWWu_D"
      },
      "execution_count": null,
      "outputs": []
    },
    {
      "cell_type": "code",
      "source": [
        "import requests\n",
        "import pandas as pd\n",
        "\n",
        "# Set the URL\n",
        "url = \"https://api.eia.gov/v2/natural-gas/prod/shalegas/data/?frequency=annual&data[0]=value&sort[0][column]=period&sort[0][direction]=desc&offset=0&length=5000&api_key=kWuSgOkckExQKmklnYjNgrbadIlKtZLzfIrWiXTR\"\n",
        "\n",
        "# Make the API request\n",
        "data = requests.get(url).json()\n",
        "df = pd.DataFrame(data['response']['data'])\n",
        "print(df.head())"
      ],
      "metadata": {
        "colab": {
          "base_uri": "https://localhost:8080/"
        },
        "id": "uSctdWttW-kJ",
        "outputId": "e352c4dc-7949-4948-c550-877ecedb887b"
      },
      "execution_count": 11,
      "outputs": [
        {
          "output_type": "stream",
          "name": "stdout",
          "text": [
            "   period duoarea area-name product product-name process  \\\n",
            "0    2021   RTX06        NA    EPG0  Natural Gas   R5302   \n",
            "1    2021     SAR    USA-AR    EPG0  Natural Gas   R5302   \n",
            "2    2021     SNM    USA-NM    EPG0  Natural Gas   R5302   \n",
            "3    2021     SCO  COLORADO    EPG0  Natural Gas   R5302   \n",
            "4    2021     SMI    USA-MI    EPG0  Natural Gas   R5302   \n",
            "\n",
            "                       process-name                    series  \\\n",
            "0  Shale, Reserves Based Production  RES_EPG0_R5302_RTX06_BCF   \n",
            "1  Shale, Reserves Based Production    RES_EPG0_R5302_SAR_BCF   \n",
            "2  Shale, Reserves Based Production    RES_EPG0_R5302_SNM_BCF   \n",
            "3  Shale, Reserves Based Production    RES_EPG0_R5302_SCO_BCF   \n",
            "4  Shale, Reserves Based Production    RES_EPG0_R5302_SMI_BCF   \n",
            "\n",
            "                                  series-description   value units  \n",
            "0  Texas--RRC District 6 Shale Production (Billio...  1358.0   BCF  \n",
            "1     Arkansas Shale Production (Billion Cubic Feet)   387.0   BCF  \n",
            "2   New Mexico Shale Production (Billion Cubic Feet)  1642.0   BCF  \n",
            "3     Colorado Shale Production (Billion Cubic Feet)   301.0   BCF  \n",
            "4     Michigan Shale Production (Billion Cubic Feet)    53.0   BCF  \n"
          ]
        }
      ]
    },
    {
      "cell_type": "code",
      "source": [],
      "metadata": {
        "id": "q8uHDPLcZXpe"
      },
      "execution_count": null,
      "outputs": []
    }
  ]
}