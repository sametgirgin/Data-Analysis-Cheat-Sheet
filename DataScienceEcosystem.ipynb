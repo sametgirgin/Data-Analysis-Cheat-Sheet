{
  "nbformat": 4,
  "nbformat_minor": 0,
  "metadata": {
    "colab": {
      "provenance": [],
      "authorship_tag": "ABX9TyMf61TseIwYwNFucq+xT12o",
      "include_colab_link": true
    },
    "kernelspec": {
      "name": "python3",
      "display_name": "Python 3"
    },
    "language_info": {
      "name": "python"
    }
  },
  "cells": [
    {
      "cell_type": "markdown",
      "metadata": {
        "id": "view-in-github",
        "colab_type": "text"
      },
      "source": [
        "<a href=\"https://colab.research.google.com/github/sametgirgin/Data-Analysis-Cheat-Sheet/blob/main/DataScienceEcosystem.ipynb\" target=\"_parent\"><img src=\"https://colab.research.google.com/assets/colab-badge.svg\" alt=\"Open In Colab\"/></a>"
      ]
    },
    {
      "cell_type": "markdown",
      "source": [
        "#Data Science Tools and Ecosystem\n"
      ],
      "metadata": {
        "id": "xrL81uaYuICo"
      }
    },
    {
      "cell_type": "markdown",
      "source": [
        "In this notebook, Data Science Tools and Ecosystem are summarized.\n"
      ],
      "metadata": {
        "id": "ANrlQEnkpZEh"
      }
    },
    {
      "cell_type": "markdown",
      "source": [
        "<strong>Objectives:</strong>\n",
        "<ul>\n",
        "    <li>List popular languages that Data Scientists use.</li>\n",
        "    <li>List commonly used libraries used by Data Scientists.</li>\n",
        "    <li>Comment on Data Science tools.</li>\n",
        "</ul>\n",
        "    "
      ],
      "metadata": {
        "id": "gYwbke9dxQdW"
      }
    },
    {
      "cell_type": "markdown",
      "source": [
        "Some of the popular languages that Data Scientists use are:\n",
        "\n",
        "\n",
        "1.   Python\n",
        "2.   R\n",
        "3.   SQL\n",
        "\n",
        "\n",
        "\n"
      ],
      "metadata": {
        "id": "sgqrRAy3p9mt"
      }
    },
    {
      "cell_type": "markdown",
      "source": [
        "Some of the commonly used libraries used by Data Scientists include:\n",
        "\n",
        "\n",
        "\n",
        "1.   Pandas\n",
        "2.   Numpy\n",
        "3.   Matplotlib\n",
        "\n"
      ],
      "metadata": {
        "id": "9pSPliy_qhU3"
      }
    },
    {
      "cell_type": "markdown",
      "source": [
        "\n",
        "Data Science Tools\n",
        "\n",
        "<table style=\"width:100%\">\n",
        "  <tr>\n",
        "    <th>Data Science Tools</th>\n",
        "    <th></th>\n",
        "    <th></th>\n",
        "  </tr>\n",
        "  <tr>\n",
        "    <td>SAS. It is one of those data science tools which are specifically designed for statistical operation</td>\n",
        "    <td></td>\n",
        "    <td></td>\n",
        "  </tr>\n",
        "  <tr>\n",
        "    <td>Apache Spark</td>\n",
        "    <td></td>\n",
        "    <td></td>\n",
        "  </tr>\n",
        "  <tr>\n",
        "    <td>BigML</td>\n",
        "    <td></td>\n",
        "    <td></td>\n",
        "  </tr>\n",
        "</table>"
      ],
      "metadata": {
        "id": "qU2u0diWrN8K"
      }
    },
    {
      "cell_type": "markdown",
      "source": [
        "###Below are a few examples of evaluating arithmetic expressions in Python\n"
      ],
      "metadata": {
        "id": "bvS62jaduRb7"
      }
    },
    {
      "cell_type": "code",
      "source": [],
      "metadata": {
        "id": "-fUioV7zvsn2"
      },
      "execution_count": null,
      "outputs": []
    },
    {
      "cell_type": "code",
      "source": [
        "#This a simple arithmetic expression to mutiply then add integers\n",
        "x = (3*4)+5\n",
        "print (x)"
      ],
      "metadata": {
        "colab": {
          "base_uri": "https://localhost:8080/"
        },
        "id": "vGrYCp2roKI-",
        "outputId": "85fbe3a4-1d91-480f-9a10-a93e19e5e77b"
      },
      "execution_count": 2,
      "outputs": [
        {
          "output_type": "stream",
          "name": "stdout",
          "text": [
            "17\n"
          ]
        }
      ]
    },
    {
      "cell_type": "code",
      "source": [
        "#This will convert 200 minutes to hours by diving by 60\n",
        "days = 0\n",
        "hours = 0\n",
        "mins = 0\n",
        "\n",
        "time = 200\n",
        "days = time / 1440\n",
        "leftover_minutes = time % 1440\n",
        "hours = leftover_minutes / 60\n",
        "mins = time - (days*1440) - (hours*60)\n",
        "print(str(days) + \" days, \" + str(hours) + \" hours, \" + str(mins) +  \" mins. \")\n"
      ],
      "metadata": {
        "colab": {
          "base_uri": "https://localhost:8080/"
        },
        "id": "Epp5GJffu9fz",
        "outputId": "f0fe3e7a-7a74-45c5-f78f-baf2e4bc0d19"
      },
      "execution_count": 4,
      "outputs": [
        {
          "output_type": "stream",
          "name": "stdout",
          "text": [
            "0.1388888888888889 days, 3.3333333333333335 hours, -200.0 mins. \n"
          ]
        }
      ]
    },
    {
      "cell_type": "markdown",
      "source": [
        "<p>Below the introduction cell created in Exercise 3, insert a new\n",
        "\n",
        "---\n",
        "\n",
        "markdown cell to list the objectives that this notebook covered (i.e. some of the key takeaways from the course). In this new cell start with an introductory line titled: Objectives: in bold font. Then using an unordered list (bullets) indicate 3 to 5 items covered in this notebook, such as List popular languages for Data Science.</p>"
      ],
      "metadata": {
        "id": "UFhYG9wyw78l"
      }
    },
    {
      "cell_type": "markdown",
      "source": [
        "<h2>Author:</h2> Samet Girgin"
      ],
      "metadata": {
        "id": "TpvEOm19xpzd"
      }
    },
    {
      "cell_type": "code",
      "source": [],
      "metadata": {
        "id": "oEacSLrKvqHY"
      },
      "execution_count": null,
      "outputs": []
    },
    {
      "cell_type": "code",
      "source": [],
      "metadata": {
        "id": "5_zdQr9RydYU"
      },
      "execution_count": null,
      "outputs": []
    }
  ]
}